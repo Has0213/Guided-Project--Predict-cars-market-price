{
 "cells": [
  {
   "cell_type": "markdown",
   "metadata": {
    "collapsed": true
   },
   "source": [
    "## Predict a car's market price\n",
    "\n",
    "This is a guided project to predict a car's market price using K-nearest neighbors algorithm. The data set contains information about different cars and for each cars technical aspects such as weight of the car, miles per gallon, accerleration, ect.\n",
    "\n",
    "Attribute Information:\n",
    "\n",
    "1. symboling: -3, -2, -1, 0, 1, 2, 3.\n",
    "2. normalized-losses: continuous from 65 to 256.\n",
    "3. make:\n",
    "alfa-romero, audi, bmw, chevrolet, dodge, honda,\n",
    "isuzu, jaguar, mazda, mercedes-benz, mercury,\n",
    "mitsubishi, nissan, peugot, plymouth, porsche,\n",
    "renault, saab, subaru, toyota, volkswagen, volvo\n",
    "\n",
    "4. fuel-type: diesel, gas.\n",
    "5. aspiration: std, turbo.\n",
    "6. num-of-doors: four, two.\n",
    "7. body-style: hardtop, wagon, sedan, hatchback, convertible.\n",
    "8. drive-wheels: 4wd, fwd, rwd.\n",
    "9. engine-location: front, rear.\n",
    "10. wheel-base: continuous from 86.6 120.9.\n",
    "11. length: continuous from 141.1 to 208.1.\n",
    "12. width: continuous from 60.3 to 72.3.\n",
    "13. height: continuous from 47.8 to 59.8.\n",
    "14. curb-weight: continuous from 1488 to 4066.\n",
    "15. engine-type: dohc, dohcv, l, ohc, ohcf, ohcv, rotor.\n",
    "16. num-of-cylinders: eight, five, four, six, three, twelve, two.\n",
    "17. engine-size: continuous from 61 to 326.\n",
    "18. fuel-system: 1bbl, 2bbl, 4bbl, idi, mfi, mpfi, spdi, spfi.\n",
    "19. bore: continuous from 2.54 to 3.94.\n",
    "20. stroke: continuous from 2.07 to 4.17.\n",
    "21. compression-ratio: continuous from 7 to 23.\n",
    "22. horsepower: continuous from 48 to 288.\n",
    "23. peak-rpm: continuous from 4150 to 6600.\n",
    "24. city-mpg: continuous from 13 to 49.\n",
    "25. highway-mpg: continuous from 16 to 54.\n",
    "26. price: continuous from 5118 to 45400."
   ]
  },
  {
   "cell_type": "code",
   "execution_count": 1,
   "metadata": {
    "collapsed": false
   },
   "outputs": [],
   "source": [
    "#import the libraries\n",
    "import pandas as pd\n",
    "import numpy as np\n",
    "import matplotlib.pyplot as plt\n",
    "%matplotlib inline"
   ]
  },
  {
   "cell_type": "code",
   "execution_count": 2,
   "metadata": {
    "collapsed": false
   },
   "outputs": [],
   "source": [
    "cars = pd.read_csv(\"imports-85.data\")"
   ]
  },
  {
   "cell_type": "code",
   "execution_count": 3,
   "metadata": {
    "collapsed": false
   },
   "outputs": [
    {
     "data": {
      "text/html": [
       "<div>\n",
       "<style scoped>\n",
       "    .dataframe tbody tr th:only-of-type {\n",
       "        vertical-align: middle;\n",
       "    }\n",
       "\n",
       "    .dataframe tbody tr th {\n",
       "        vertical-align: top;\n",
       "    }\n",
       "\n",
       "    .dataframe thead th {\n",
       "        text-align: right;\n",
       "    }\n",
       "</style>\n",
       "<table border=\"1\" class=\"dataframe\">\n",
       "  <thead>\n",
       "    <tr style=\"text-align: right;\">\n",
       "      <th></th>\n",
       "      <th>3</th>\n",
       "      <th>?</th>\n",
       "      <th>alfa-romero</th>\n",
       "      <th>gas</th>\n",
       "      <th>std</th>\n",
       "      <th>two</th>\n",
       "      <th>convertible</th>\n",
       "      <th>rwd</th>\n",
       "      <th>front</th>\n",
       "      <th>88.60</th>\n",
       "      <th>...</th>\n",
       "      <th>130</th>\n",
       "      <th>mpfi</th>\n",
       "      <th>3.47</th>\n",
       "      <th>2.68</th>\n",
       "      <th>9.00</th>\n",
       "      <th>111</th>\n",
       "      <th>5000</th>\n",
       "      <th>21</th>\n",
       "      <th>27</th>\n",
       "      <th>13495</th>\n",
       "    </tr>\n",
       "  </thead>\n",
       "  <tbody>\n",
       "    <tr>\n",
       "      <th>0</th>\n",
       "      <td>3</td>\n",
       "      <td>?</td>\n",
       "      <td>alfa-romero</td>\n",
       "      <td>gas</td>\n",
       "      <td>std</td>\n",
       "      <td>two</td>\n",
       "      <td>convertible</td>\n",
       "      <td>rwd</td>\n",
       "      <td>front</td>\n",
       "      <td>88.6</td>\n",
       "      <td>...</td>\n",
       "      <td>130</td>\n",
       "      <td>mpfi</td>\n",
       "      <td>3.47</td>\n",
       "      <td>2.68</td>\n",
       "      <td>9.0</td>\n",
       "      <td>111</td>\n",
       "      <td>5000</td>\n",
       "      <td>21</td>\n",
       "      <td>27</td>\n",
       "      <td>16500</td>\n",
       "    </tr>\n",
       "    <tr>\n",
       "      <th>1</th>\n",
       "      <td>1</td>\n",
       "      <td>?</td>\n",
       "      <td>alfa-romero</td>\n",
       "      <td>gas</td>\n",
       "      <td>std</td>\n",
       "      <td>two</td>\n",
       "      <td>hatchback</td>\n",
       "      <td>rwd</td>\n",
       "      <td>front</td>\n",
       "      <td>94.5</td>\n",
       "      <td>...</td>\n",
       "      <td>152</td>\n",
       "      <td>mpfi</td>\n",
       "      <td>2.68</td>\n",
       "      <td>3.47</td>\n",
       "      <td>9.0</td>\n",
       "      <td>154</td>\n",
       "      <td>5000</td>\n",
       "      <td>19</td>\n",
       "      <td>26</td>\n",
       "      <td>16500</td>\n",
       "    </tr>\n",
       "    <tr>\n",
       "      <th>2</th>\n",
       "      <td>2</td>\n",
       "      <td>164</td>\n",
       "      <td>audi</td>\n",
       "      <td>gas</td>\n",
       "      <td>std</td>\n",
       "      <td>four</td>\n",
       "      <td>sedan</td>\n",
       "      <td>fwd</td>\n",
       "      <td>front</td>\n",
       "      <td>99.8</td>\n",
       "      <td>...</td>\n",
       "      <td>109</td>\n",
       "      <td>mpfi</td>\n",
       "      <td>3.19</td>\n",
       "      <td>3.40</td>\n",
       "      <td>10.0</td>\n",
       "      <td>102</td>\n",
       "      <td>5500</td>\n",
       "      <td>24</td>\n",
       "      <td>30</td>\n",
       "      <td>13950</td>\n",
       "    </tr>\n",
       "  </tbody>\n",
       "</table>\n",
       "<p>3 rows × 26 columns</p>\n",
       "</div>"
      ],
      "text/plain": [
       "   3    ?  alfa-romero  gas  std   two  convertible  rwd  front  88.60  ...    \\\n",
       "0  3    ?  alfa-romero  gas  std   two  convertible  rwd  front   88.6  ...     \n",
       "1  1    ?  alfa-romero  gas  std   two    hatchback  rwd  front   94.5  ...     \n",
       "2  2  164         audi  gas  std  four        sedan  fwd  front   99.8  ...     \n",
       "\n",
       "   130  mpfi  3.47  2.68  9.00  111  5000  21  27  13495  \n",
       "0  130  mpfi  3.47  2.68   9.0  111  5000  21  27  16500  \n",
       "1  152  mpfi  2.68  3.47   9.0  154  5000  19  26  16500  \n",
       "2  109  mpfi  3.19  3.40  10.0  102  5500  24  30  13950  \n",
       "\n",
       "[3 rows x 26 columns]"
      ]
     },
     "execution_count": 3,
     "metadata": {},
     "output_type": "execute_result"
    }
   ],
   "source": [
    "#Display the 3 rows of the dataframe\n",
    "cars.head(3)"
   ]
  },
  {
   "cell_type": "markdown",
   "metadata": {},
   "source": [
    "From the data frame it shows that their is no header with column names, so correct column names have to be added to the dataframe."
   ]
  },
  {
   "cell_type": "code",
   "execution_count": 4,
   "metadata": {
    "collapsed": false
   },
   "outputs": [],
   "source": [
    "cars.columns = [\"symboling\",\"normalized-losses\",\"make\",\"fuel-type\",\"aspiration\",\"num-of-doors\",\n",
    " \"body-style\",\"drive-wheels\",\"engine-location\",\"wheel-base\",\"length\",\"width\",\"height\",\n",
    " \"curb-weight\",\"engine-type\",\"num-of-cylinders\",\"engine-size\",\"fuel-system\",\"bore\",\"stroke\",\n",
    " \"compression-ratio\",\"horsepower\",\"peak-rpm\",\"city-mpg\",\"highway-mpg\",\"price\"]"
   ]
  },
  {
   "cell_type": "code",
   "execution_count": 5,
   "metadata": {
    "collapsed": false
   },
   "outputs": [
    {
     "data": {
      "text/plain": [
       "(204, 26)"
      ]
     },
     "execution_count": 5,
     "metadata": {},
     "output_type": "execute_result"
    }
   ],
   "source": [
    "#Display the rows and columns of the dataframe\n",
    "cars.shape"
   ]
  },
  {
   "cell_type": "code",
   "execution_count": 6,
   "metadata": {
    "collapsed": false
   },
   "outputs": [
    {
     "name": "stdout",
     "output_type": "stream",
     "text": [
      "<class 'pandas.core.frame.DataFrame'>\n",
      "RangeIndex: 204 entries, 0 to 203\n",
      "Data columns (total 26 columns):\n",
      "symboling            204 non-null int64\n",
      "normalized-losses    204 non-null object\n",
      "make                 204 non-null object\n",
      "fuel-type            204 non-null object\n",
      "aspiration           204 non-null object\n",
      "num-of-doors         204 non-null object\n",
      "body-style           204 non-null object\n",
      "drive-wheels         204 non-null object\n",
      "engine-location      204 non-null object\n",
      "wheel-base           204 non-null float64\n",
      "length               204 non-null float64\n",
      "width                204 non-null float64\n",
      "height               204 non-null float64\n",
      "curb-weight          204 non-null int64\n",
      "engine-type          204 non-null object\n",
      "num-of-cylinders     204 non-null object\n",
      "engine-size          204 non-null int64\n",
      "fuel-system          204 non-null object\n",
      "bore                 204 non-null object\n",
      "stroke               204 non-null object\n",
      "compression-ratio    204 non-null float64\n",
      "horsepower           204 non-null object\n",
      "peak-rpm             204 non-null object\n",
      "city-mpg             204 non-null int64\n",
      "highway-mpg          204 non-null int64\n",
      "price                204 non-null object\n",
      "dtypes: float64(5), int64(5), object(16)\n",
      "memory usage: 41.5+ KB\n"
     ]
    }
   ],
   "source": [
    "cars.info()"
   ]
  },
  {
   "cell_type": "markdown",
   "metadata": {},
   "source": [
    "### Data Cleaning"
   ]
  },
  {
   "cell_type": "code",
   "execution_count": 7,
   "metadata": {
    "collapsed": true
   },
   "outputs": [],
   "source": [
    "#getting only the numeric columns\n",
    "numeric_col = [\"normalized-losses\",\"wheel-base\",\"length\",\"width\",\"height\",\n",
    " \"curb-weight\",\"engine-size\",\"bore\",\"stroke\",\"compression-ratio\",\"horsepower\",\"peak-rpm\",\"city-mpg\",\"highway-mpg\",\"price\"]"
   ]
  },
  {
   "cell_type": "code",
   "execution_count": 8,
   "metadata": {
    "collapsed": false
   },
   "outputs": [
    {
     "data": {
      "text/html": [
       "<div>\n",
       "<style scoped>\n",
       "    .dataframe tbody tr th:only-of-type {\n",
       "        vertical-align: middle;\n",
       "    }\n",
       "\n",
       "    .dataframe tbody tr th {\n",
       "        vertical-align: top;\n",
       "    }\n",
       "\n",
       "    .dataframe thead th {\n",
       "        text-align: right;\n",
       "    }\n",
       "</style>\n",
       "<table border=\"1\" class=\"dataframe\">\n",
       "  <thead>\n",
       "    <tr style=\"text-align: right;\">\n",
       "      <th></th>\n",
       "      <th>normalized-losses</th>\n",
       "      <th>wheel-base</th>\n",
       "      <th>length</th>\n",
       "      <th>width</th>\n",
       "      <th>height</th>\n",
       "      <th>curb-weight</th>\n",
       "      <th>engine-size</th>\n",
       "      <th>bore</th>\n",
       "      <th>stroke</th>\n",
       "      <th>compression-ratio</th>\n",
       "      <th>horsepower</th>\n",
       "      <th>peak-rpm</th>\n",
       "      <th>city-mpg</th>\n",
       "      <th>highway-mpg</th>\n",
       "      <th>price</th>\n",
       "    </tr>\n",
       "  </thead>\n",
       "  <tbody>\n",
       "    <tr>\n",
       "      <th>0</th>\n",
       "      <td>?</td>\n",
       "      <td>88.6</td>\n",
       "      <td>168.8</td>\n",
       "      <td>64.1</td>\n",
       "      <td>48.8</td>\n",
       "      <td>2548</td>\n",
       "      <td>130</td>\n",
       "      <td>3.47</td>\n",
       "      <td>2.68</td>\n",
       "      <td>9.0</td>\n",
       "      <td>111</td>\n",
       "      <td>5000</td>\n",
       "      <td>21</td>\n",
       "      <td>27</td>\n",
       "      <td>16500</td>\n",
       "    </tr>\n",
       "    <tr>\n",
       "      <th>1</th>\n",
       "      <td>?</td>\n",
       "      <td>94.5</td>\n",
       "      <td>171.2</td>\n",
       "      <td>65.5</td>\n",
       "      <td>52.4</td>\n",
       "      <td>2823</td>\n",
       "      <td>152</td>\n",
       "      <td>2.68</td>\n",
       "      <td>3.47</td>\n",
       "      <td>9.0</td>\n",
       "      <td>154</td>\n",
       "      <td>5000</td>\n",
       "      <td>19</td>\n",
       "      <td>26</td>\n",
       "      <td>16500</td>\n",
       "    </tr>\n",
       "    <tr>\n",
       "      <th>2</th>\n",
       "      <td>164</td>\n",
       "      <td>99.8</td>\n",
       "      <td>176.6</td>\n",
       "      <td>66.2</td>\n",
       "      <td>54.3</td>\n",
       "      <td>2337</td>\n",
       "      <td>109</td>\n",
       "      <td>3.19</td>\n",
       "      <td>3.40</td>\n",
       "      <td>10.0</td>\n",
       "      <td>102</td>\n",
       "      <td>5500</td>\n",
       "      <td>24</td>\n",
       "      <td>30</td>\n",
       "      <td>13950</td>\n",
       "    </tr>\n",
       "  </tbody>\n",
       "</table>\n",
       "</div>"
      ],
      "text/plain": [
       "  normalized-losses  wheel-base  length  width  height  curb-weight  \\\n",
       "0                 ?        88.6   168.8   64.1    48.8         2548   \n",
       "1                 ?        94.5   171.2   65.5    52.4         2823   \n",
       "2               164        99.8   176.6   66.2    54.3         2337   \n",
       "\n",
       "   engine-size  bore stroke  compression-ratio horsepower peak-rpm  city-mpg  \\\n",
       "0          130  3.47   2.68                9.0        111     5000        21   \n",
       "1          152  2.68   3.47                9.0        154     5000        19   \n",
       "2          109  3.19   3.40               10.0        102     5500        24   \n",
       "\n",
       "   highway-mpg  price  \n",
       "0           27  16500  \n",
       "1           26  16500  \n",
       "2           30  13950  "
      ]
     },
     "execution_count": 8,
     "metadata": {},
     "output_type": "execute_result"
    }
   ],
   "source": [
    "cars_numeric = cars[numeric_col]\n",
    "cars_numeric.head(3)"
   ]
  },
  {
   "cell_type": "code",
   "execution_count": 9,
   "metadata": {
    "collapsed": false
   },
   "outputs": [],
   "source": [
    "cars_numeric = cars_numeric.replace(\"?\",np.nan)"
   ]
  },
  {
   "cell_type": "code",
   "execution_count": 10,
   "metadata": {
    "collapsed": false
   },
   "outputs": [
    {
     "data": {
      "text/html": [
       "<div>\n",
       "<style scoped>\n",
       "    .dataframe tbody tr th:only-of-type {\n",
       "        vertical-align: middle;\n",
       "    }\n",
       "\n",
       "    .dataframe tbody tr th {\n",
       "        vertical-align: top;\n",
       "    }\n",
       "\n",
       "    .dataframe thead th {\n",
       "        text-align: right;\n",
       "    }\n",
       "</style>\n",
       "<table border=\"1\" class=\"dataframe\">\n",
       "  <thead>\n",
       "    <tr style=\"text-align: right;\">\n",
       "      <th></th>\n",
       "      <th>normalized-losses</th>\n",
       "      <th>wheel-base</th>\n",
       "      <th>length</th>\n",
       "      <th>width</th>\n",
       "      <th>height</th>\n",
       "      <th>curb-weight</th>\n",
       "      <th>engine-size</th>\n",
       "      <th>bore</th>\n",
       "      <th>stroke</th>\n",
       "      <th>compression-ratio</th>\n",
       "      <th>horsepower</th>\n",
       "      <th>peak-rpm</th>\n",
       "      <th>city-mpg</th>\n",
       "      <th>highway-mpg</th>\n",
       "      <th>price</th>\n",
       "    </tr>\n",
       "  </thead>\n",
       "  <tbody>\n",
       "    <tr>\n",
       "      <th>0</th>\n",
       "      <td>NaN</td>\n",
       "      <td>88.6</td>\n",
       "      <td>168.8</td>\n",
       "      <td>64.1</td>\n",
       "      <td>48.8</td>\n",
       "      <td>2548</td>\n",
       "      <td>130</td>\n",
       "      <td>3.47</td>\n",
       "      <td>2.68</td>\n",
       "      <td>9.0</td>\n",
       "      <td>111</td>\n",
       "      <td>5000</td>\n",
       "      <td>21</td>\n",
       "      <td>27</td>\n",
       "      <td>16500</td>\n",
       "    </tr>\n",
       "    <tr>\n",
       "      <th>1</th>\n",
       "      <td>NaN</td>\n",
       "      <td>94.5</td>\n",
       "      <td>171.2</td>\n",
       "      <td>65.5</td>\n",
       "      <td>52.4</td>\n",
       "      <td>2823</td>\n",
       "      <td>152</td>\n",
       "      <td>2.68</td>\n",
       "      <td>3.47</td>\n",
       "      <td>9.0</td>\n",
       "      <td>154</td>\n",
       "      <td>5000</td>\n",
       "      <td>19</td>\n",
       "      <td>26</td>\n",
       "      <td>16500</td>\n",
       "    </tr>\n",
       "    <tr>\n",
       "      <th>2</th>\n",
       "      <td>164</td>\n",
       "      <td>99.8</td>\n",
       "      <td>176.6</td>\n",
       "      <td>66.2</td>\n",
       "      <td>54.3</td>\n",
       "      <td>2337</td>\n",
       "      <td>109</td>\n",
       "      <td>3.19</td>\n",
       "      <td>3.40</td>\n",
       "      <td>10.0</td>\n",
       "      <td>102</td>\n",
       "      <td>5500</td>\n",
       "      <td>24</td>\n",
       "      <td>30</td>\n",
       "      <td>13950</td>\n",
       "    </tr>\n",
       "  </tbody>\n",
       "</table>\n",
       "</div>"
      ],
      "text/plain": [
       "  normalized-losses  wheel-base  length  width  height  curb-weight  \\\n",
       "0               NaN        88.6   168.8   64.1    48.8         2548   \n",
       "1               NaN        94.5   171.2   65.5    52.4         2823   \n",
       "2               164        99.8   176.6   66.2    54.3         2337   \n",
       "\n",
       "   engine-size  bore stroke  compression-ratio horsepower peak-rpm  city-mpg  \\\n",
       "0          130  3.47   2.68                9.0        111     5000        21   \n",
       "1          152  2.68   3.47                9.0        154     5000        19   \n",
       "2          109  3.19   3.40               10.0        102     5500        24   \n",
       "\n",
       "   highway-mpg  price  \n",
       "0           27  16500  \n",
       "1           26  16500  \n",
       "2           30  13950  "
      ]
     },
     "execution_count": 10,
     "metadata": {},
     "output_type": "execute_result"
    }
   ],
   "source": [
    "cars_numeric.head(3)"
   ]
  },
  {
   "cell_type": "code",
   "execution_count": 11,
   "metadata": {
    "collapsed": false
   },
   "outputs": [],
   "source": [
    "cars_numeric[\"normalized-losses\"] = cars_numeric[\"normalized-losses\"].astype(\"float\")"
   ]
  },
  {
   "cell_type": "code",
   "execution_count": 12,
   "metadata": {
    "collapsed": false
   },
   "outputs": [
    {
     "data": {
      "text/plain": [
       "normalized-losses    40\n",
       "wheel-base            0\n",
       "length                0\n",
       "width                 0\n",
       "height                0\n",
       "curb-weight           0\n",
       "engine-size           0\n",
       "bore                  4\n",
       "stroke                4\n",
       "compression-ratio     0\n",
       "horsepower            2\n",
       "peak-rpm              2\n",
       "city-mpg              0\n",
       "highway-mpg           0\n",
       "price                 4\n",
       "dtype: int64"
      ]
     },
     "execution_count": 12,
     "metadata": {},
     "output_type": "execute_result"
    }
   ],
   "source": [
    "#cheking for null values\n",
    "cars_numeric.isnull().sum()"
   ]
  },
  {
   "cell_type": "markdown",
   "metadata": {},
   "source": [
    "* For the normalized-losses column Na values will replace with mean value of the column.\n",
    "* bore and stroke columns will replace with the mean value of the column.\n",
    "* horsepower and peak-rpm will also replace the null values with the mean of the column.\n",
    "* We will be dropping the 4 null rows in price column since we need to use the price column as the target."
   ]
  },
  {
   "cell_type": "code",
   "execution_count": 13,
   "metadata": {
    "collapsed": true
   },
   "outputs": [],
   "source": [
    "#deleting the missing value rows from the price column\n",
    "cars_numeric = cars_numeric.dropna(axis = 0, subset = [\"price\"])"
   ]
  },
  {
   "cell_type": "code",
   "execution_count": 14,
   "metadata": {
    "collapsed": true
   },
   "outputs": [],
   "source": [
    "cars_numeric[\"price\"] = cars_numeric[\"price\"].astype(\"int\")"
   ]
  },
  {
   "cell_type": "code",
   "execution_count": 15,
   "metadata": {
    "collapsed": false
   },
   "outputs": [
    {
     "data": {
      "text/plain": [
       "normalized-losses    36\n",
       "wheel-base            0\n",
       "length                0\n",
       "width                 0\n",
       "height                0\n",
       "curb-weight           0\n",
       "engine-size           0\n",
       "bore                  4\n",
       "stroke                4\n",
       "compression-ratio     0\n",
       "horsepower            2\n",
       "peak-rpm              2\n",
       "city-mpg              0\n",
       "highway-mpg           0\n",
       "price                 0\n",
       "dtype: int64"
      ]
     },
     "execution_count": 15,
     "metadata": {},
     "output_type": "execute_result"
    }
   ],
   "source": [
    "cars_numeric.isnull().sum()"
   ]
  },
  {
   "cell_type": "code",
   "execution_count": 16,
   "metadata": {
    "collapsed": false
   },
   "outputs": [],
   "source": [
    "#Replace other NA values in columns with the mean values\n",
    "cars_numeric = cars_numeric.astype(\"float\")\n",
    "cars_numeric = cars_numeric.fillna(cars_numeric.mean())"
   ]
  },
  {
   "cell_type": "code",
   "execution_count": 17,
   "metadata": {
    "collapsed": false
   },
   "outputs": [
    {
     "data": {
      "text/plain": [
       "normalized-losses    0\n",
       "wheel-base           0\n",
       "length               0\n",
       "width                0\n",
       "height               0\n",
       "curb-weight          0\n",
       "engine-size          0\n",
       "bore                 0\n",
       "stroke               0\n",
       "compression-ratio    0\n",
       "horsepower           0\n",
       "peak-rpm             0\n",
       "city-mpg             0\n",
       "highway-mpg          0\n",
       "price                0\n",
       "dtype: int64"
      ]
     },
     "execution_count": 17,
     "metadata": {},
     "output_type": "execute_result"
    }
   ],
   "source": [
    "cars_numeric.isnull().sum()"
   ]
  },
  {
   "cell_type": "code",
   "execution_count": 18,
   "metadata": {
    "collapsed": false
   },
   "outputs": [],
   "source": [
    "#normalize all columns except the target column.\n",
    "price_col = cars_numeric[\"price\"]\n",
    "norm_cars = (cars_numeric - cars_numeric.min())/(cars_numeric.max() - cars_numeric.min())\n",
    "norm_cars[\"price\"] = price_col"
   ]
  },
  {
   "cell_type": "code",
   "execution_count": 19,
   "metadata": {
    "collapsed": false
   },
   "outputs": [
    {
     "data": {
      "text/html": [
       "<div>\n",
       "<style scoped>\n",
       "    .dataframe tbody tr th:only-of-type {\n",
       "        vertical-align: middle;\n",
       "    }\n",
       "\n",
       "    .dataframe tbody tr th {\n",
       "        vertical-align: top;\n",
       "    }\n",
       "\n",
       "    .dataframe thead th {\n",
       "        text-align: right;\n",
       "    }\n",
       "</style>\n",
       "<table border=\"1\" class=\"dataframe\">\n",
       "  <thead>\n",
       "    <tr style=\"text-align: right;\">\n",
       "      <th></th>\n",
       "      <th>normalized-losses</th>\n",
       "      <th>wheel-base</th>\n",
       "      <th>length</th>\n",
       "      <th>width</th>\n",
       "      <th>height</th>\n",
       "      <th>curb-weight</th>\n",
       "      <th>engine-size</th>\n",
       "      <th>bore</th>\n",
       "      <th>stroke</th>\n",
       "      <th>compression-ratio</th>\n",
       "      <th>horsepower</th>\n",
       "      <th>peak-rpm</th>\n",
       "      <th>city-mpg</th>\n",
       "      <th>highway-mpg</th>\n",
       "      <th>price</th>\n",
       "    </tr>\n",
       "  </thead>\n",
       "  <tbody>\n",
       "    <tr>\n",
       "      <th>0</th>\n",
       "      <td>0.298429</td>\n",
       "      <td>0.058309</td>\n",
       "      <td>0.413433</td>\n",
       "      <td>0.324786</td>\n",
       "      <td>0.083333</td>\n",
       "      <td>0.411171</td>\n",
       "      <td>0.260377</td>\n",
       "      <td>0.664286</td>\n",
       "      <td>0.290476</td>\n",
       "      <td>0.1250</td>\n",
       "      <td>0.294393</td>\n",
       "      <td>0.346939</td>\n",
       "      <td>0.222222</td>\n",
       "      <td>0.289474</td>\n",
       "      <td>16500.0</td>\n",
       "    </tr>\n",
       "    <tr>\n",
       "      <th>1</th>\n",
       "      <td>0.298429</td>\n",
       "      <td>0.230321</td>\n",
       "      <td>0.449254</td>\n",
       "      <td>0.444444</td>\n",
       "      <td>0.383333</td>\n",
       "      <td>0.517843</td>\n",
       "      <td>0.343396</td>\n",
       "      <td>0.100000</td>\n",
       "      <td>0.666667</td>\n",
       "      <td>0.1250</td>\n",
       "      <td>0.495327</td>\n",
       "      <td>0.346939</td>\n",
       "      <td>0.166667</td>\n",
       "      <td>0.263158</td>\n",
       "      <td>16500.0</td>\n",
       "    </tr>\n",
       "    <tr>\n",
       "      <th>2</th>\n",
       "      <td>0.518325</td>\n",
       "      <td>0.384840</td>\n",
       "      <td>0.529851</td>\n",
       "      <td>0.504274</td>\n",
       "      <td>0.541667</td>\n",
       "      <td>0.329325</td>\n",
       "      <td>0.181132</td>\n",
       "      <td>0.464286</td>\n",
       "      <td>0.633333</td>\n",
       "      <td>0.1875</td>\n",
       "      <td>0.252336</td>\n",
       "      <td>0.551020</td>\n",
       "      <td>0.305556</td>\n",
       "      <td>0.368421</td>\n",
       "      <td>13950.0</td>\n",
       "    </tr>\n",
       "  </tbody>\n",
       "</table>\n",
       "</div>"
      ],
      "text/plain": [
       "   normalized-losses  wheel-base    length     width    height  curb-weight  \\\n",
       "0           0.298429    0.058309  0.413433  0.324786  0.083333     0.411171   \n",
       "1           0.298429    0.230321  0.449254  0.444444  0.383333     0.517843   \n",
       "2           0.518325    0.384840  0.529851  0.504274  0.541667     0.329325   \n",
       "\n",
       "   engine-size      bore    stroke  compression-ratio  horsepower  peak-rpm  \\\n",
       "0     0.260377  0.664286  0.290476             0.1250    0.294393  0.346939   \n",
       "1     0.343396  0.100000  0.666667             0.1250    0.495327  0.346939   \n",
       "2     0.181132  0.464286  0.633333             0.1875    0.252336  0.551020   \n",
       "\n",
       "   city-mpg  highway-mpg    price  \n",
       "0  0.222222     0.289474  16500.0  \n",
       "1  0.166667     0.263158  16500.0  \n",
       "2  0.305556     0.368421  13950.0  "
      ]
     },
     "execution_count": 19,
     "metadata": {},
     "output_type": "execute_result"
    }
   ],
   "source": [
    "norm_cars.head(3)"
   ]
  },
  {
   "cell_type": "markdown",
   "metadata": {},
   "source": [
    "## Univariate Model\n",
    "\n",
    "Funtion named knn_train_test is created to take 4 parameters such as training column name, target column name, dataframe and the k value. The funtion will split the data set into training and test data using train_test_split and return the root mean squared error value for each column.\n",
    "\n",
    "For this funtion we will take the default k value 5 for n_neighbors and store the resulting rmse values in a dictionary named rmse_k5.\n",
    "\n",
    "The test size is as 0.5 as per guided project."
   ]
  },
  {
   "cell_type": "code",
   "execution_count": 20,
   "metadata": {
    "collapsed": false
   },
   "outputs": [],
   "source": [
    "from sklearn.model_selection import train_test_split\n",
    "from sklearn.neighbors import KNeighborsRegressor\n",
    "from sklearn.metrics import mean_squared_error\n",
    "\n",
    "def knn_train_test(train_col,target_col,df,k):\n",
    "    shuffled_index = np.random.permutation(df.index)\n",
    "    rand_df = df.reindex(shuffled_index)\n",
    "   \n",
    "    x = rand_df[[train_col]]\n",
    "    y = rand_df[target_col]\n",
    "    \n",
    "    x_train,x_test,y_train,y_test = train_test_split(x,y,test_size = 0.5)\n",
    "    knn = KNeighborsRegressor(n_neighbors = k)\n",
    "    knn.fit(x_train, y_train)\n",
    "    predictions = knn.predict(x_test)\n",
    "    mse = mean_squared_error(y_test,predictions)\n",
    "    rmse = mse ** (1/2)\n",
    "    return rmse\n",
    " "
   ]
  },
  {
   "cell_type": "code",
   "execution_count": 22,
   "metadata": {
    "collapsed": false
   },
   "outputs": [
    {
     "data": {
      "text/plain": [
       "engine-size          3041.916047\n",
       "city-mpg             3576.958360\n",
       "curb-weight          4164.021046\n",
       "width                4385.216104\n",
       "horsepower           4767.422650\n",
       "highway-mpg          4976.551164\n",
       "compression-ratio    5863.325407\n",
       "length               6136.108248\n",
       "wheel-base           6419.941957\n",
       "bore                 6898.342295\n",
       "stroke               7642.414472\n",
       "normalized-losses    7733.776960\n",
       "height               7934.959113\n",
       "peak-rpm             8066.263068\n",
       "dtype: float64"
      ]
     },
     "execution_count": 22,
     "metadata": {},
     "output_type": "execute_result"
    }
   ],
   "source": [
    "#Cheking the rmse values for each columns when k is 5 \n",
    "columns = norm_cars.columns.drop(\"price\")\n",
    "rmse_k5 = {}\n",
    "\n",
    "for col in columns:\n",
    "    results = knn_train_test(col,\"price\",norm_cars,5)\n",
    "    rmse_k5[col] = results\n",
    "    \n",
    "#create a series from the dictionary and sort the results\n",
    "rmse_k5_series = pd.Series(rmse_k5)\n",
    "rmse_k5_series.sort_values()"
   ]
  },
  {
   "cell_type": "markdown",
   "metadata": {},
   "source": [
    "### Test Univariate model using K values 1, 3, 5, 7 and 9\n",
    "\n",
    "The function model is then changed as knn_train_test_2. This funtion is to use different k values for the n_neighbors (1,3,5,7,9) and check the performace for each column with the k values.\n",
    "\n",
    "Then visualize the result using a plot."
   ]
  },
  {
   "cell_type": "code",
   "execution_count": 23,
   "metadata": {
    "collapsed": true
   },
   "outputs": [],
   "source": [
    "# The funtion name is as knn_train_test_2\n",
    "from collections import OrderedDict\n",
    "\n",
    "def knn_train_test_2(train_col,target_col,df):\n",
    "    shuffled_index = np.random.permutation(df.index)\n",
    "    rand_df = df.reindex(shuffled_index)\n",
    "    y = rand_df[target_col]\n",
    "    x = rand_df[[train_col]]\n",
    "    \n",
    "    x_train,x_test,y_train,y_test = train_test_split(x,y,test_size = 0.5)\n",
    "    \n",
    "    k_val = [1,3,5,7,9]\n",
    "    rmse_dict = OrderedDict()\n",
    "    #rmse_dict = {}\n",
    "    \n",
    "    for k in k_val:\n",
    "        knn = KNeighborsRegressor(n_neighbors = k)\n",
    "        knn.fit(x_train, y_train)\n",
    "        predictions = knn.predict(x_test)\n",
    "        mse = mean_squared_error(y_test, predictions)\n",
    "        rmse = mse ** (1/2)\n",
    "        \n",
    "        rmse_dict[k] = rmse\n",
    "        \n",
    "    return rmse_dict"
   ]
  },
  {
   "cell_type": "code",
   "execution_count": 26,
   "metadata": {
    "collapsed": false
   },
   "outputs": [
    {
     "data": {
      "text/plain": [
       "{'bore': OrderedDict([(1, 8456.918178627484),\n",
       "              (3, 6849.299853837455),\n",
       "              (5, 7446.514846100826),\n",
       "              (7, 7598.761485268504),\n",
       "              (9, 7177.828016456452)]),\n",
       " 'city-mpg': OrderedDict([(1, 5762.043301642222),\n",
       "              (3, 5543.972458846133),\n",
       "              (5, 4423.6780809186375),\n",
       "              (7, 4145.91396112621),\n",
       "              (9, 4348.037699474256)]),\n",
       " 'compression-ratio': OrderedDict([(1, 8116.856743838714),\n",
       "              (3, 6244.444570353894),\n",
       "              (5, 5902.645704868284),\n",
       "              (7, 5624.939077511354),\n",
       "              (9, 5243.435928654152)]),\n",
       " 'curb-weight': OrderedDict([(1, 4983.537601945028),\n",
       "              (3, 4589.687109887412),\n",
       "              (5, 4261.191439351205),\n",
       "              (7, 4600.605114702692),\n",
       "              (9, 4816.848066582879)]),\n",
       " 'engine-size': OrderedDict([(1, 4581.800925400404),\n",
       "              (3, 3807.3869536001257),\n",
       "              (5, 3063.1785976008646),\n",
       "              (7, 3371.6265920659916),\n",
       "              (9, 3769.170368550683)]),\n",
       " 'height': OrderedDict([(1, 10570.969784272396),\n",
       "              (3, 8803.058419473693),\n",
       "              (5, 8028.195199271129),\n",
       "              (7, 8146.919856746162),\n",
       "              (9, 8114.924753878567)]),\n",
       " 'highway-mpg': OrderedDict([(1, 4096.664533495512),\n",
       "              (3, 3936.039421098885),\n",
       "              (5, 3912.36833199534),\n",
       "              (7, 3839.3992866391086),\n",
       "              (9, 3891.2444503932215)]),\n",
       " 'horsepower': OrderedDict([(1, 4927.1431245702615),\n",
       "              (3, 4912.19024808011),\n",
       "              (5, 5390.267266286524),\n",
       "              (7, 5214.542271672675),\n",
       "              (9, 5074.192367896565)]),\n",
       " 'length': OrderedDict([(1, 6527.228045656135),\n",
       "              (3, 6955.79626203132),\n",
       "              (5, 6126.3439776754285),\n",
       "              (7, 6170.458044139819),\n",
       "              (9, 6369.167520432584)]),\n",
       " 'normalized-losses': OrderedDict([(1, 9279.289687793997),\n",
       "              (3, 7561.284282521792),\n",
       "              (5, 8172.732166858277),\n",
       "              (7, 8548.74596318438),\n",
       "              (9, 8639.365228032286)]),\n",
       " 'peak-rpm': OrderedDict([(1, 7614.301206282819),\n",
       "              (3, 7994.144029364384),\n",
       "              (5, 8228.789615903423),\n",
       "              (7, 8553.936622481404),\n",
       "              (9, 8439.637003040261)]),\n",
       " 'stroke': OrderedDict([(1, 7857.662938176974),\n",
       "              (3, 7229.863100286816),\n",
       "              (5, 7043.172742990193),\n",
       "              (7, 6768.987225529958),\n",
       "              (9, 7017.019025145882)]),\n",
       " 'wheel-base': OrderedDict([(1, 4753.58920606314),\n",
       "              (3, 5319.398588813087),\n",
       "              (5, 5390.971612538875),\n",
       "              (7, 5388.260094134359),\n",
       "              (9, 5488.409264571302)]),\n",
       " 'width': OrderedDict([(1, 7058.191108208958),\n",
       "              (3, 4306.363533320326),\n",
       "              (5, 3726.8674696586677),\n",
       "              (7, 3849.2121283160673),\n",
       "              (9, 4168.705770498519)])}"
      ]
     },
     "execution_count": 26,
     "metadata": {},
     "output_type": "execute_result"
    }
   ],
   "source": [
    "col_dict = {}\n",
    "train_columns = norm_cars.columns.drop(\"price\")\n",
    "\n",
    "for col in train_columns:\n",
    "    k_res = knn_train_test_2(col,\"price\",norm_cars)\n",
    "    col_dict[col] = k_res\n",
    "\n",
    "col_dict"
   ]
  },
  {
   "cell_type": "code",
   "execution_count": 27,
   "metadata": {
    "collapsed": false
   },
   "outputs": [
    {
     "data": {
      "image/png": "[encoded data removed]",
      "text/plain": [
       "<matplotlib.figure.Figure at 0x7fd488e788d0>"
      ]
     },
     "metadata": {},
     "output_type": "display_data"
    }
   ],
   "source": [
    "for k,v in col_dict.items():\n",
    "    x = list(v.keys())\n",
    "    y = list(v.values())\n",
    "    \n",
    "    plt.plot(x,y)\n",
    "    plt.xlabel('k value')\n",
    "    plt.ylabel('RMSE')"
   ]
  },
  {
   "cell_type": "markdown",
   "metadata": {},
   "source": [
    "\n",
    "def knn_train_test_cols(train_col,target_col,df,k):\n",
    "    y = df[target_col]\n",
    "    x = df[[train_col]]\n",
    "    x_train,x_test,y_train,y_test = train_test_split(x,y,test_size = 0.2)\n",
    "    knn = KNeighborsRegressor(n_neighbors = k)\n",
    "    knn.fit(x_train, y_train)\n",
    "    predictions = knn.predict(x_test)\n",
    "    mse = mean_squared_error(predictions,y_test)\n",
    "    rmse = mse ** (1/2)\n",
    "    return rmse"
   ]
  },
  {
   "cell_type": "markdown",
   "metadata": {},
   "source": [
    "### Multivariate Model\n",
    "\n",
    "The the function is modified as knn_train_test_3. The function model is changed to accept more than one column data and k value as 5.\n",
    "From the previous result will sort the columns names in order with the best rmse results.\n",
    "\n",
    "Will then use the 2 best features(columns with lowest rmse values) and test a multivariate k-nearest neighbors model.\n",
    "Then use 3 best features, 4 best features, 5 best features and test the model."
   ]
  },
  {
   "cell_type": "code",
   "execution_count": 28,
   "metadata": {
    "collapsed": false
   },
   "outputs": [
    {
     "data": {
      "text/plain": [
       "engine-size          3718.632687\n",
       "highway-mpg          3935.143205\n",
       "width                4621.868002\n",
       "curb-weight          4650.373866\n",
       "city-mpg             4844.729100\n",
       "horsepower           5103.667056\n",
       "wheel-base           5268.125753\n",
       "compression-ratio    6226.464405\n",
       "length               6429.798770\n",
       "stroke               7183.341006\n",
       "bore                 7505.864476\n",
       "peak-rpm             8166.161695\n",
       "normalized-losses    8440.283466\n",
       "height               8732.813603\n",
       "dtype: float64"
      ]
     },
     "execution_count": 28,
     "metadata": {},
     "output_type": "execute_result"
    }
   ],
   "source": [
    "#From the above exploration finding the top 5 columns with the lowest rmse values.\n",
    "rmse_avg_feature = {}\n",
    "for v,k in col_dict.items():\n",
    "    avg_rmse = np.mean(list(k.values()))\n",
    "    rmse_avg_feature[v] = avg_rmse\n",
    "    \n",
    "series_avg_rmse = pd.Series(rmse_avg_feature)\n",
    "series_avg_rmse.sort_values()    "
   ]
  },
  {
   "cell_type": "code",
   "execution_count": 29,
   "metadata": {
    "collapsed": false
   },
   "outputs": [
    {
     "data": {
      "text/plain": [
       "['normalized-losses',\n",
       " 'engine-size',\n",
       " 'stroke',\n",
       " 'compression-ratio',\n",
       " 'peak-rpm',\n",
       " 'length',\n",
       " 'wheel-base',\n",
       " 'city-mpg',\n",
       " 'horsepower',\n",
       " 'curb-weight',\n",
       " 'height',\n",
       " 'width',\n",
       " 'highway-mpg',\n",
       " 'bore']"
      ]
     },
     "execution_count": 29,
     "metadata": {},
     "output_type": "execute_result"
    }
   ],
   "source": [
    "feature_list = list(rmse_avg_feature.keys())\n",
    "feature_list"
   ]
  },
  {
   "cell_type": "code",
   "execution_count": 30,
   "metadata": {
    "collapsed": false
   },
   "outputs": [],
   "source": [
    "def knn_train_test_3(train_col,target_col,df,k):\n",
    "    shuffled_index = np.random.permutation(df.index)\n",
    "    rand_df = df.reindex(shuffled_index)\n",
    "    x = rand_df[train_col]\n",
    "    y = rand_df[target_col]\n",
    "    \n",
    "    x_train,x_test,y_train,y_test = train_test_split(x,y,test_size = 0.5)\n",
    "    knn = KNeighborsRegressor(n_neighbors = k)\n",
    "    knn.fit(x_train, y_train)\n",
    "    predictions = knn.predict(x_test)\n",
    "    mse = mean_squared_error(y_test, predictions)\n",
    "    rmse = mse ** (1/2)\n",
    "    return rmse    "
   ]
  },
  {
   "cell_type": "code",
   "execution_count": 32,
   "metadata": {
    "collapsed": false
   },
   "outputs": [],
   "source": [
    "features_2 = knn_train_test_3(feature_list[0:2],\"price\",norm_cars,5)\n",
    "features_3 = knn_train_test_3(feature_list[0:3],\"price\",norm_cars,5)\n",
    "features_4 = knn_train_test_3(feature_list[0:4],\"price\",norm_cars,5)\n",
    "features_5 = knn_train_test_3(feature_list[0:5],\"price\",norm_cars,5)"
   ]
  },
  {
   "cell_type": "code",
   "execution_count": 33,
   "metadata": {
    "collapsed": false
   },
   "outputs": [
    {
     "name": "stdout",
     "output_type": "stream",
     "text": [
      "2 best features rmse value: 3754.88\n",
      "3 best features rmse value: 3852.15\n",
      "4 best features rmse value: 4905.79\n",
      "5 best features rmse value: 5347.19\n"
     ]
    }
   ],
   "source": [
    "print(\"2 best features rmse value: {:.2f}\".format(features_2))\n",
    "print(\"3 best features rmse value: {:.2f}\".format(features_3))\n",
    "print(\"4 best features rmse value: {:.2f}\".format(features_4))\n",
    "print(\"5 best features rmse value: {:.2f}\".format(features_5))            "
   ]
  },
  {
   "cell_type": "markdown",
   "metadata": {},
   "source": [
    "### To check which K value is optimal for each model\n",
    "\n",
    "we will range the hyperparameter value from 1 to 25 for each model and plot the resulting rmse values and check which k value is optimal for each model from the previous step for the best features. "
   ]
  },
  {
   "cell_type": "code",
   "execution_count": 34,
   "metadata": {
    "collapsed": true
   },
   "outputs": [],
   "source": [
    "def knn_train_test_4(train_col,target_col,df):\n",
    "    shuffled_index = np.random.permutation(df.index)\n",
    "    rand_df = df.reindex(shuffled_index)\n",
    "    y = rand_df[target_col]\n",
    "    x = rand_df[train_col]\n",
    "    \n",
    "    x_train,x_test,y_train,y_test = train_test_split(x,y,test_size = 0.5)\n",
    "    \n",
    "    rmse_dict = OrderedDict()\n",
    "    #rmse_dict = {}\n",
    "    \n",
    "    for k in range(1,25):\n",
    "        knn = KNeighborsRegressor(n_neighbors = k)\n",
    "        knn.fit(x_train, y_train)\n",
    "        predictions = knn.predict(x_test)\n",
    "        mse = mean_squared_error(y_test, predictions)\n",
    "        rmse = mse ** (1/2)\n",
    "        \n",
    "        rmse_dict[k] = rmse\n",
    "        \n",
    "    return rmse_dict"
   ]
  },
  {
   "cell_type": "code",
   "execution_count": 37,
   "metadata": {
    "collapsed": false
   },
   "outputs": [],
   "source": [
    "# from the feature_list\n",
    "optimal_rmse = {}\n",
    "for k in range(5):\n",
    "    feat_no = feature_list[0:k+2]\n",
    "    best_feat = '{} best features'.format(k+2)\n",
    "    rmse_resu = knn_train_test_4(feat_no,\"price\",norm_cars)\n",
    "    optimal_rmse[best_feat] = rmse_resu  "
   ]
  },
  {
   "cell_type": "code",
   "execution_count": 38,
   "metadata": {
    "collapsed": false
   },
   "outputs": [
    {
     "data": {
      "image/png": "[encoded data removed]",
      "text/plain": [
       "<matplotlib.figure.Figure at 0x7fd488d58e80>"
      ]
     },
     "metadata": {},
     "output_type": "display_data"
    }
   ],
   "source": [
    "i = 1\n",
    "for k,v in optimal_rmse.items():\n",
    "    x = list(v.keys())\n",
    "    y = list(v.values())\n",
    "    plt.plot(x,y, label = \"{} features\".format(i+1))\n",
    "    plt.ylabel(\"rmse values\")\n",
    "    plt.xlabel(\"K value\")\n",
    "    plt.legend()\n",
    "    i+=1\n",
    "plt.show()"
   ]
  },
  {
   "cell_type": "markdown",
   "metadata": {
    "collapsed": true
   },
   "source": [
    "## Conclusion\n",
    "\n",
    "The optimal k values for the different features are as below.\n",
    "2 features : 4\n",
    "3 features : 5\n",
    "4 features : 2\n",
    "5 features : 4\n",
    "\n",
    "From the results the optimal value for the k is between 2 to 5 for all 5 features. Over all the the lowest rmse plot is shown from the green plot when using 3 features. The column names in 3 features are 'normalized-losses','engine-size','stroke'. "
   ]
  },
  {
   "cell_type": "code",
   "execution_count": null,
   "metadata": {
    "collapsed": true
   },
   "outputs": [],
   "source": []
  }
 ],
 "metadata": {
  "kernelspec": {
   "display_name": "Python 3",
   "language": "python",
   "name": "python3"
  },
  "language_info": {
   "codemirror_mode": {
    "name": "ipython",
    "version": 3
   },
   "file_extension": ".py",
   "mimetype": "text/x-python",
   "name": "python",
   "nbconvert_exporter": "python",
   "pygments_lexer": "ipython3",
   "version": "3.4.3"
  }
 },
 "nbformat": 4,
 "nbformat_minor": 2
}
